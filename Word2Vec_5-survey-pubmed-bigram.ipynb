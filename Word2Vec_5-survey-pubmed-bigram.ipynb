{
 "cells": [
  {
   "cell_type": "markdown",
   "id": "2bf6aebd",
   "metadata": {},
   "source": [
    "# Skip-gram model with Bigrams\n",
    "### For more information visit the web site :https://radimrehurek.com/gensim/models/word2vec.html"
   ]
  },
  {
   "cell_type": "code",
   "execution_count": 78,
   "id": "24566c39",
   "metadata": {},
   "outputs": [
    {
     "name": "stdout",
     "output_type": "stream",
     "text": [
      "['we', 'studied', '58', 'patients', 'with', 'grade', '1-2', 'essential', 'hypertension', '(', '25', 'men', 'and', '33', 'women', ')', ',', '48.7', '(', '11.9', ')', 'years', 'of', 'age', ',', 'randomly', 'assigned', 'to', 'receive', 'torasemide', '(', '5', 'mg/day', ')', 'either', 'upon', 'awakening', 'or', 'at', 'bedtime', '.', 'blood', 'pressure', 'was', 'measured', 'by', 'ambulatory', 'monitoring', 'for', '48', 'consecutive', 'hours', 'before', 'and', 'after', '6', 'weeks', 'of', 'therapy', '.', 'efficacy', 'of', 'torasemide', 'was', 'significantly', 'higher', 'with', 'bedtime', 'dosing', '(', '11.2', 'and', '8.0', 'mmhg', 'reduction', 'in', 'the', '24-hour', 'mean', 'of', 'systolic', 'and', 'diastolic', 'blood', 'pressure', ',', 'respectively', ')', 'as', 'compared', 'to', 'the', 'administration', 'of', 'the', 'drug', 'on', 'awakening', '(', '6.2', 'and', '3.7', 'mmhg', 'reduction', 'in', 'systolic', 'and', 'diastolic', 'blood', 'pressure', ')', '.', 'the', 'percentage', 'of', 'patients', 'with', 'controlled', 'ambulatory', 'blood', 'pressure', 'after', 'treatment', 'was', 'also', 'higher', 'after', 'bedtime', 'treatment', '(', '54', '%', 'versus', '27', '%', ')', '.', 'the', 'time-response', 'curves', 'indicate', 'a', 'full', '24-hour', 'therapeutic', 'duration', 'only', 'when', 'torasemide', 'was', 'administered', 'before', 'bedtime', '.', 'with', 'regard', 'to', 'the', 'safety', 'profile', ',', '2', 'patients', 'presented', 'secondary', 'effects', '(', 'abdominal', 'pain', ',', 'diarrhea', ')', 'in', 'morning', 'dose', ',', 'and', '4', 'patients', 'taking', 'the', 'drug', 'at', 'bedtime', 'reported', 'nicturia', '.']\n"
     ]
    }
   ],
   "source": [
    "import numpy as np # linear algebra\n",
    "import os # accessing directory structure\n",
    "import pandas as pd\n",
    "from nltk.tokenize import word_tokenize\n",
    "sentences=[ \"We studied 58 patients with grade 1-2 essential hypertension ( 25 men and 33 women ) , 48.7 ( 11.9 ) years of age , randomly assigned to receive torasemide ( 5 mg/day ) either upon awakening or at bedtime .  Blood pressure was measured by ambulatory monitoring for 48 consecutive hours before and after 6 weeks of therapy . Efficacy of torasemide was significantly higher with bedtime dosing ( 11.2 and 8.0 mmHg reduction in the 24-hour mean of systolic and diastolic blood pressure , respectively ) as compared to the administration of the drug on awakening ( 6.2 and 3.7 mmHg reduction in systolic and diastolic blood pressure ) . The percentage of patients with controlled ambulatory blood pressure after treatment was also higher after bedtime treatment ( 54 % versus 27 % ) . The time-response curves indicate a full 24-hour therapeutic duration only when torasemide was administered before bedtime . With regard to the safety profile , 2 patients presented secondary effects ( abdominal pain , diarrhea ) in morning dose , and 4 patients taking the drug at bedtime reported nicturia . \"]\n",
    "st=[]\n",
    "for sent in sentences:\n",
    "    tokens = word_tokenize(sent)\n",
    "    tokens = [w.lower() for w in tokens]\n",
    "    st.append(tokens)\n",
    "print(st[0])"
   ]
  },
  {
   "cell_type": "code",
   "execution_count": 94,
   "id": "88fdd2f1",
   "metadata": {
    "scrolled": false
   },
   "outputs": [
    {
     "name": "stdout",
     "output_type": "stream",
     "text": [
      "Word2Vec<vocab=95, vector_size=1, alpha=0.025>\n",
      "['postoperatively', ',', 'patients_receiving', 'than', 'of', 'the', 'the_study', '.', 'epinephrine', 'or', 'the_treatment', 'statistically_significant', 'timing_of', '(_p', 'either', ')_.', 'no', 'consumption', 'medication_preoperatively', 'medication', 'receiving', 'at', '=', 'was', 'those', 'combination_of', 'and_epinephrine', 'as', 'scores', 'lower_pain', 'pain_control', 'bupivacaine_and', 'bupivacaine', 'patients', 'successfully', 'significantly', 'had', 'completed', 'protocol', 'combinations', 'of_morphine', '<', '.0001', 'measurement', 'yielded', 'injection', 'and', 'irrespective', 'narcotics', 'which', 'alone', 'first', 'injected', '(', 'arthroscop', 'provide', 'excellent', 'postoperative', 'when', 'used', 'preoperatively', 'in', 'knee', '._there', 't', 'a', 'trend', 'that', 'preoperative', 'analgesic', 'injections', 'experienced', 'superior', 'well', 'morphine_,', '.the', 'difference', '0', ')', 'did', '.0343', 'there_was', 'effect', 'administration', '60', '120', 'minutes', 'comparison', 'fentanyl', 'between', 'groups', 'versus', 'showed', 'significant', 'fifty']\n"
     ]
    }
   ],
   "source": [
    "from gensim.models import Word2Vec\n",
    "# train a bigrams detector.\n",
    "bigram_transformer = Phrases(st,min_count=1)\n",
    "modelsurv = Word2Vec(bigram_transformer[st], min_count=1,vector_size=1)\n",
    "# summarize the loaded model\n",
    "print(modelsurv)\n",
    "# summarize vocabulary\n",
    "words = list(modelsurv.wv.key_to_index)\n",
    "print(words)"
   ]
  },
  {
   "cell_type": "code",
   "execution_count": 83,
   "id": "066c6a16",
   "metadata": {},
   "outputs": [
    {
     "name": "stdout",
     "output_type": "stream",
     "text": [
      "[-0.8740874]\n",
      "[('randomly', 1.0), ('1-2', 1.0), ('nicturia', 1.0), ('upon', 1.0), ('mg/day', 1.0), ('5', 1.0), ('receive', 1.0), ('2', 1.0), ('grade', 1.0), ('33', 1.0)]\n"
     ]
    }
   ],
   "source": [
    "print(modelsurv.wv['pain'])\n",
    "print(modelsurv.wv.similar_by_word('pain') )\n"
   ]
  },
  {
   "cell_type": "code",
   "execution_count": 84,
   "id": "3cea56f0",
   "metadata": {},
   "outputs": [
    {
     "name": "stdout",
     "output_type": "stream",
     "text": [
      "[[-0.4144957 ]\n",
      " [-0.76557475]\n",
      " [-0.41300604]\n",
      " [-0.15523957]\n",
      " [-0.35326207]\n",
      " [-0.6780844 ]\n",
      " [-0.4445696 ]\n",
      " [-0.15080094]\n",
      " [-0.8154686 ]\n",
      " [-0.4381722 ]]\n"
     ]
    }
   ],
   "source": [
    "print(modelsurv.wv['randomly', '1-2', 'nicturia', 'upon', 'mg/day', '5', 'receive', '2', 'grade', '33'])\n"
   ]
  },
  {
   "cell_type": "code",
   "execution_count": 85,
   "id": "fde6ea02",
   "metadata": {},
   "outputs": [
    {
     "name": "stdout",
     "output_type": "stream",
     "text": [
      "Word2Vec<vocab=110, vector_size=2, alpha=0.025>\n"
     ]
    }
   ],
   "source": [
    "from gensim.models import Word2Vec\n",
    "modelsurv = Word2Vec(bigram_transformer[st], min_count=1,vector_size=2)\n",
    "# summarize the loaded model\n",
    "print(modelsurv)\n"
   ]
  },
  {
   "cell_type": "code",
   "execution_count": 86,
   "id": "35603df0",
   "metadata": {},
   "outputs": [
    {
     "name": "stdout",
     "output_type": "stream",
     "text": [
      "[-0.0344286  0.386681 ]\n",
      "[('effects', 0.9998037219047546), ('secondary', 0.9995718002319336), ('48', 0.9978600144386292), ('to_the', 0.9972957372665405), ('on', 0.9919712543487549), ('2', 0.9864487648010254), ('men', 0.9799752831459045), ('years', 0.9732295274734497), ('patients', 0.964857816696167), ('assigned', 0.963462233543396)]\n"
     ]
    }
   ],
   "source": [
    "print(modelsurv.wv['pain'])\n",
    "print(modelsurv.wv.similar_by_word('pain')  )\n"
   ]
  },
  {
   "cell_type": "code",
   "execution_count": 87,
   "id": "146d67b2",
   "metadata": {},
   "outputs": [
    {
     "name": "stdout",
     "output_type": "stream",
     "text": [
      "[[-0.04579268  0.41994843]\n",
      " [-0.01041142  0.17466633]\n",
      " [-0.04315702  0.27758962]\n",
      " [-0.04728323  0.2886573 ]\n",
      " [ 0.00589052  0.15493423]\n",
      " [-0.08697879  0.33556914]\n",
      " [-0.04217291  0.14170608]\n",
      " [ 0.04619973  0.32062832]\n",
      " [-0.1745979   0.4714274 ]\n",
      " [ 0.05577656  0.30247355]]\n"
     ]
    }
   ],
   "source": [
    "print(modelsurv.wv['effects','secondary','48', 'to_the', 'on', '2', 'men','years', 'patients','assigned'])\n",
    " "
   ]
  },
  {
   "cell_type": "code",
   "execution_count": 88,
   "id": "936486ee",
   "metadata": {},
   "outputs": [
    {
     "name": "stdout",
     "output_type": "stream",
     "text": [
      "[ 0.10921132  0.04822416 -0.02795384]\n"
     ]
    }
   ],
   "source": [
    "from gensim.models import Word2Vec\n",
    "modelsurv = Word2Vec(bigram_transformer[st], min_count=1,vector_size=3)\n",
    "print(modelsurv.wv['pain'])"
   ]
  },
  {
   "cell_type": "code",
   "execution_count": 89,
   "id": "03aa4039",
   "metadata": {},
   "outputs": [
    {
     "name": "stdout",
     "output_type": "stream",
     "text": [
      "[('dosing', 0.9987161159515381), ('randomly', 0.963797926902771), ('torasemide', 0.9480313062667847), ('we', 0.9432605504989624), ('only', 0.939445972442627), ('respectively', 0.897213876247406), ('.', 0.8581104278564453), ('33', 0.8520382046699524), ('as', 0.8314549922943115), ('receive', 0.8276056051254272)]\n",
      "[[ 0.31974766  0.12626493 -0.09253141]\n",
      " [ 0.3003011   0.21782692 -0.0221054 ]\n",
      " [ 0.24719653  0.22078094 -0.12200838]\n",
      " [ 0.12886761  0.06717101  0.01492179]\n",
      " [ 0.2543021   0.24461922 -0.11915247]\n",
      " [ 0.27776605  0.00415853 -0.14990212]\n",
      " [ 0.21432671  0.29947424 -0.16514207]\n",
      " [ 0.22308448  0.33170563 -0.14346758]\n",
      " [ 0.18913858  0.3065405  -0.1346152 ]\n",
      " [ 0.17829235  0.2590716  -0.18962674]]\n"
     ]
    }
   ],
   "source": [
    "print(modelsurv.wv.similar_by_word('pain')  )\n",
    "print(modelsurv.wv['dosing', 'randomly', 'torasemide', 'we', 'only', 'respectively', '.', '33', 'as','receive'])\n"
   ]
  },
  {
   "cell_type": "code",
   "execution_count": 90,
   "id": "6466d2e8",
   "metadata": {},
   "outputs": [
    {
     "name": "stdout",
     "output_type": "stream",
     "text": [
      "['fifty', 'patients', 'successfully', 'completed', 'the', 'study', 'protocol', '.', 'patients', 'receiving', 'combinations', 'of', 'morphine', ',', 'bupivacaine', ',', 'and', 'epinephrine', 'or', 'bupivacaine', 'and', 'epinephrine', 'yielded', 'lower', 'pain', 'scores', 'and', 'narcotics', 'consumption', 'than', 'patients', 'receiving', 'epinephrine', 'alone', ',', 'which', 'was', 'statistically', 'significant', 'irrespective', 'of', 'the', 'timing', 'of', 'injection', '(', 'p', '<', '.0001', ')', '.', 'patients', 'receiving', 'the', 'study', 'medication', 'preoperatively', 'had', 'significantly', 'lower', 'pain', 'scores', 'at', 'the', 'first', 'measurement', '(', 't', '=', '0', ')', 'than', 'those', 'receiving', 'the', 'study', 'medication', 'postoperatively', '(', 'p', '=', '.0343', ')', '.', 'there', 'was', 'no', 'statistically', 'significant', 'effect', 'of', 'timing', 'of', 'the', 'treatment', 'medication', 'administration', 'at', 'either', '60', 'or', '120', 'minutes', 'postoperatively', '.', 'comparison', 'of', 'fentanyl', 'consumption', 'between', 'groups', 'receiving', 'the', 'treatment', 'medication', 'preoperatively', 'versus', 'postoperatively', 'showed', 'no', 'significant', 'difference', '.the', 'combination', 'of', 'morphine', ',', 'bupivacaine', ',', 'and', 'epinephrine', ',', 'as', 'well', 'as', 'the', 'combination', 'of', 'bupivacaine', 'and', 'epinephrine', 'provide', 'excellent', 'postoperative', 'pain', 'control', 'when', 'used', 'either', 'preoperatively', 'or', 'postoperatively', 'in', 'knee', 'arthroscop', '.', 'there', 'was', 'a', 'trend', 'that', 'patients', 'receiving', 'preoperative', 'analgesic', 'injections', 'experienced', 'superior', 'pain', 'control', 'than', 'did', 'those', 'injected', 'postoperatively', '.']\n"
     ]
    }
   ],
   "source": [
    "## PubMed_200k_RCT\n",
    "import numpy as np # linear algebra\n",
    "import os # accessing directory structure\n",
    "import pandas as pd\n",
    "from nltk.tokenize import word_tokenize\n",
    "sentences=[\"Fifty patients successfully completed the study protocol . Patients receiving combinations of morphine  , bupivacaine , and epinephrine or bupivacaine and epinephrine yielded lower pain scores and narcotics consumption than patients receiving epinephrine alone , which was statistically significant irrespective of the timing of injection ( P < .0001 ) . \tPatients receiving the study medication preoperatively had significantly lower pain scores at the first measurement ( t = 0 ) than those receiving the study medication postoperatively ( P = .0343 ) . There was no statistically significant effect of timing of the treatment medication administration at either 60 or 120 minutes postoperatively . Comparison of fentanyl consumption between groups receiving the treatment medication preoperatively versus postoperatively showed no significant difference .The combination of morphine , bupivacaine , and epinephrine , as well as the combination of bupivacaine and epinephrine provide excellent postoperative pain control when used either preoperatively or postoperatively in knee arthroscop . There was a trend that patients receiving preoperative analgesic injections experienced superior pain control than did those injected postoperatively . \"]\n",
    "st=[]\n",
    "for sent in sentences:\n",
    "    tokens = word_tokenize(sent)\n",
    "    tokens = [w.lower() for w in tokens]\n",
    "    st.append(tokens)\n",
    "print(st[0])\n"
   ]
  },
  {
   "cell_type": "code",
   "execution_count": 91,
   "id": "1cf10b66",
   "metadata": {},
   "outputs": [
    {
     "name": "stdout",
     "output_type": "stream",
     "text": [
      "Word2Vec<vocab=95, vector_size=1, alpha=0.025>\n"
     ]
    }
   ],
   "source": [
    "from gensim.models import Word2Vec\n",
    "bigram_transformer = Phrases(st,min_count=1)\n",
    "modelsurv = Word2Vec(bigram_transformer[st], min_count=1,vector_size=1)\n",
    "# summarize the loaded model\n",
    "print(modelsurv)\n",
    "\n"
   ]
  },
  {
   "cell_type": "markdown",
   "id": "907b1ca5",
   "metadata": {},
   "source": [
    "### In this case the word 'pain' is not present in the model vocabulary."
   ]
  },
  {
   "cell_type": "code",
   "execution_count": 92,
   "id": "756a1dde",
   "metadata": {},
   "outputs": [
    {
     "ename": "KeyError",
     "evalue": "\"Key 'pain' not present\"",
     "output_type": "error",
     "traceback": [
      "\u001b[1;31m---------------------------------------------------------------------------\u001b[0m",
      "\u001b[1;31mKeyError\u001b[0m                                  Traceback (most recent call last)",
      "\u001b[1;32m~\\AppData\\Local\\Temp/ipykernel_12544/2167419271.py\u001b[0m in \u001b[0;36m<module>\u001b[1;34m\u001b[0m\n\u001b[1;32m----> 1\u001b[1;33m \u001b[0mprint\u001b[0m\u001b[1;33m(\u001b[0m\u001b[0mmodelsurv\u001b[0m\u001b[1;33m.\u001b[0m\u001b[0mwv\u001b[0m\u001b[1;33m[\u001b[0m\u001b[1;34m'pain'\u001b[0m\u001b[1;33m]\u001b[0m\u001b[1;33m)\u001b[0m\u001b[1;33m\u001b[0m\u001b[1;33m\u001b[0m\u001b[0m\n\u001b[0m",
      "\u001b[1;32m~\\anaconda3\\envs\\pythonProject1\\lib\\site-packages\\gensim\\models\\keyedvectors.py\u001b[0m in \u001b[0;36m__getitem__\u001b[1;34m(self, key_or_keys)\u001b[0m\n\u001b[0;32m    402\u001b[0m         \"\"\"\n\u001b[0;32m    403\u001b[0m         \u001b[1;32mif\u001b[0m \u001b[0misinstance\u001b[0m\u001b[1;33m(\u001b[0m\u001b[0mkey_or_keys\u001b[0m\u001b[1;33m,\u001b[0m \u001b[0m_KEY_TYPES\u001b[0m\u001b[1;33m)\u001b[0m\u001b[1;33m:\u001b[0m\u001b[1;33m\u001b[0m\u001b[1;33m\u001b[0m\u001b[0m\n\u001b[1;32m--> 404\u001b[1;33m             \u001b[1;32mreturn\u001b[0m \u001b[0mself\u001b[0m\u001b[1;33m.\u001b[0m\u001b[0mget_vector\u001b[0m\u001b[1;33m(\u001b[0m\u001b[0mkey_or_keys\u001b[0m\u001b[1;33m)\u001b[0m\u001b[1;33m\u001b[0m\u001b[1;33m\u001b[0m\u001b[0m\n\u001b[0m\u001b[0;32m    405\u001b[0m \u001b[1;33m\u001b[0m\u001b[0m\n\u001b[0;32m    406\u001b[0m         \u001b[1;32mreturn\u001b[0m \u001b[0mvstack\u001b[0m\u001b[1;33m(\u001b[0m\u001b[1;33m[\u001b[0m\u001b[0mself\u001b[0m\u001b[1;33m.\u001b[0m\u001b[0mget_vector\u001b[0m\u001b[1;33m(\u001b[0m\u001b[0mkey\u001b[0m\u001b[1;33m)\u001b[0m \u001b[1;32mfor\u001b[0m \u001b[0mkey\u001b[0m \u001b[1;32min\u001b[0m \u001b[0mkey_or_keys\u001b[0m\u001b[1;33m]\u001b[0m\u001b[1;33m)\u001b[0m\u001b[1;33m\u001b[0m\u001b[1;33m\u001b[0m\u001b[0m\n",
      "\u001b[1;32m~\\anaconda3\\envs\\pythonProject1\\lib\\site-packages\\gensim\\models\\keyedvectors.py\u001b[0m in \u001b[0;36mget_vector\u001b[1;34m(self, key, norm)\u001b[0m\n\u001b[0;32m    445\u001b[0m \u001b[1;33m\u001b[0m\u001b[0m\n\u001b[0;32m    446\u001b[0m         \"\"\"\n\u001b[1;32m--> 447\u001b[1;33m         \u001b[0mindex\u001b[0m \u001b[1;33m=\u001b[0m \u001b[0mself\u001b[0m\u001b[1;33m.\u001b[0m\u001b[0mget_index\u001b[0m\u001b[1;33m(\u001b[0m\u001b[0mkey\u001b[0m\u001b[1;33m)\u001b[0m\u001b[1;33m\u001b[0m\u001b[1;33m\u001b[0m\u001b[0m\n\u001b[0m\u001b[0;32m    448\u001b[0m         \u001b[1;32mif\u001b[0m \u001b[0mnorm\u001b[0m\u001b[1;33m:\u001b[0m\u001b[1;33m\u001b[0m\u001b[1;33m\u001b[0m\u001b[0m\n\u001b[0;32m    449\u001b[0m             \u001b[0mself\u001b[0m\u001b[1;33m.\u001b[0m\u001b[0mfill_norms\u001b[0m\u001b[1;33m(\u001b[0m\u001b[1;33m)\u001b[0m\u001b[1;33m\u001b[0m\u001b[1;33m\u001b[0m\u001b[0m\n",
      "\u001b[1;32m~\\anaconda3\\envs\\pythonProject1\\lib\\site-packages\\gensim\\models\\keyedvectors.py\u001b[0m in \u001b[0;36mget_index\u001b[1;34m(self, key, default)\u001b[0m\n\u001b[0;32m    419\u001b[0m             \u001b[1;32mreturn\u001b[0m \u001b[0mdefault\u001b[0m\u001b[1;33m\u001b[0m\u001b[1;33m\u001b[0m\u001b[0m\n\u001b[0;32m    420\u001b[0m         \u001b[1;32melse\u001b[0m\u001b[1;33m:\u001b[0m\u001b[1;33m\u001b[0m\u001b[1;33m\u001b[0m\u001b[0m\n\u001b[1;32m--> 421\u001b[1;33m             \u001b[1;32mraise\u001b[0m \u001b[0mKeyError\u001b[0m\u001b[1;33m(\u001b[0m\u001b[1;34mf\"Key '{key}' not present\"\u001b[0m\u001b[1;33m)\u001b[0m\u001b[1;33m\u001b[0m\u001b[1;33m\u001b[0m\u001b[0m\n\u001b[0m\u001b[0;32m    422\u001b[0m \u001b[1;33m\u001b[0m\u001b[0m\n\u001b[0;32m    423\u001b[0m     \u001b[1;32mdef\u001b[0m \u001b[0mget_vector\u001b[0m\u001b[1;33m(\u001b[0m\u001b[0mself\u001b[0m\u001b[1;33m,\u001b[0m \u001b[0mkey\u001b[0m\u001b[1;33m,\u001b[0m \u001b[0mnorm\u001b[0m\u001b[1;33m=\u001b[0m\u001b[1;32mFalse\u001b[0m\u001b[1;33m)\u001b[0m\u001b[1;33m:\u001b[0m\u001b[1;33m\u001b[0m\u001b[1;33m\u001b[0m\u001b[0m\n",
      "\u001b[1;31mKeyError\u001b[0m: \"Key 'pain' not present\""
     ]
    }
   ],
   "source": [
    "print(modelsurv.wv['pain'])"
   ]
  }
 ],
 "metadata": {
  "kernelspec": {
   "display_name": "Python 3 (ipykernel)",
   "language": "python",
   "name": "python3"
  },
  "language_info": {
   "codemirror_mode": {
    "name": "ipython",
    "version": 3
   },
   "file_extension": ".py",
   "mimetype": "text/x-python",
   "name": "python",
   "nbconvert_exporter": "python",
   "pygments_lexer": "ipython3",
   "version": "3.7.10"
  }
 },
 "nbformat": 4,
 "nbformat_minor": 5
}
