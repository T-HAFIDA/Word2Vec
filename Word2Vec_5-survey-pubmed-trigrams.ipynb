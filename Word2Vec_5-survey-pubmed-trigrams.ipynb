{
 "cells": [
  {
   "cell_type": "markdown",
   "id": "9ae70161",
   "metadata": {},
   "source": [
    "# Skip-gram model with Trigrams \n",
    "For more information consult the site (https://pypi.org/project/gensim/) "
   ]
  },
  {
   "cell_type": "code",
   "execution_count": 87,
   "id": "24566c39",
   "metadata": {},
   "outputs": [
    {
     "name": "stdout",
     "output_type": "stream",
     "text": [
      "['we', 'studied', '58', 'patients', 'with', 'grade', '1-2', 'essential', 'hypertension', '(', '25', 'men', 'and', '33', 'women', ')', ',', '48.7', '(', '11.9', ')', 'years', 'of', 'age', ',', 'randomly', 'assigned', 'to', 'receive', 'torasemide', '(', '5', 'mg/day', ')', 'either', 'upon', 'awakening', 'or', 'at', 'bedtime', '.', 'blood', 'pressure', 'was', 'measured', 'by', 'ambulatory', 'monitoring', 'for', '48', 'consecutive', 'hours', 'before', 'and', 'after', '6', 'weeks', 'of', 'therapy', '.', 'efficacy', 'of', 'torasemide', 'was', 'significantly', 'higher', 'with', 'bedtime', 'dosing', '(', '11.2', 'and', '8.0', 'mmhg', 'reduction', 'in', 'the', '24-hour', 'mean', 'of', 'systolic', 'and', 'diastolic', 'blood', 'pressure', ',', 'respectively', ')', 'as', 'compared', 'to', 'the', 'administration', 'of', 'the', 'drug', 'on', 'awakening', '(', '6.2', 'and', '3.7', 'mmhg', 'reduction', 'in', 'systolic', 'and', 'diastolic', 'blood', 'pressure', ')', '.', 'the', 'percentage', 'of', 'patients', 'with', 'controlled', 'ambulatory', 'blood', 'pressure', 'after', 'treatment', 'was', 'also', 'higher', 'after', 'bedtime', 'treatment', '(', '54', '%', 'versus', '27', '%', ')', '.', 'the', 'time-response', 'curves', 'indicate', 'a', 'full', '24-hour', 'therapeutic', 'duration', 'only', 'when', 'torasemide', 'was', 'administered', 'before', 'bedtime', '.', 'with', 'regard', 'to', 'the', 'safety', 'profile', ',', '2', 'patients', 'presented', 'secondary', 'effects', '(', 'abdominal', 'pain', ',', 'diarrhea', ')', 'in', 'morning', 'dose', ',', 'and', '4', 'patients', 'taking', 'the', 'drug', 'at', 'bedtime', 'reported', 'nicturia', '.']\n"
     ]
    }
   ],
   "source": [
    "import numpy as np # linear algebra\n",
    "import os # accessing directory structure\n",
    "import pandas as pd\n",
    "from nltk.tokenize import word_tokenize\n",
    "sentences=[ \"We studied 58 patients with grade 1-2 essential hypertension ( 25 men and 33 women ) , 48.7 ( 11.9 ) years of age , randomly assigned to receive torasemide ( 5 mg/day ) either upon awakening or at bedtime .  Blood pressure was measured by ambulatory monitoring for 48 consecutive hours before and after 6 weeks of therapy . Efficacy of torasemide was significantly higher with bedtime dosing ( 11.2 and 8.0 mmHg reduction in the 24-hour mean of systolic and diastolic blood pressure , respectively ) as compared to the administration of the drug on awakening ( 6.2 and 3.7 mmHg reduction in systolic and diastolic blood pressure ) . The percentage of patients with controlled ambulatory blood pressure after treatment was also higher after bedtime treatment ( 54 % versus 27 % ) . The time-response curves indicate a full 24-hour therapeutic duration only when torasemide was administered before bedtime . With regard to the safety profile , 2 patients presented secondary effects ( abdominal pain , diarrhea ) in morning dose , and 4 patients taking the drug at bedtime reported nicturia . \"]\n",
    "st=[]\n",
    "for sent in sentences:\n",
    "    tokens = word_tokenize(sent)\n",
    "    tokens = [w.lower() for w in tokens]\n",
    "    st.append(tokens)\n",
    "print(st[0])\n"
   ]
  },
  {
   "cell_type": "code",
   "execution_count": 94,
   "id": "88fdd2f1",
   "metadata": {
    "scrolled": false
   },
   "outputs": [
    {
     "name": "stdout",
     "output_type": "stream",
     "text": [
      "Word2Vec<vocab=112, vector_size=1, alpha=0.025>\n",
      "\n",
      "----------------------bigrams vocabulary------------------------\n",
      "['we', 'studied', '58', 'patients_with', 'grade', '1-2', 'essential', 'hypertension', '(', '25', 'men', 'and', '33', 'women', ')', ',', '48.7', '(', '11.9', ')', 'years', 'of', 'age', ',', 'randomly', 'assigned', 'to', 'receive', 'torasemide', '(', '5', 'mg/day', ')', 'either', 'upon', 'awakening', 'or', 'at_bedtime', '.', 'blood_pressure', 'was', 'measured', 'by', 'ambulatory', 'monitoring', 'for', '48', 'consecutive', 'hours', 'before', 'and', 'after', '6', 'weeks', 'of', 'therapy', '.', 'efficacy', 'of', 'torasemide_was', 'significantly', 'higher', 'with', 'bedtime', 'dosing', '(', '11.2', 'and', '8.0', 'mmhg_reduction', 'in', 'the', '24-hour', 'mean', 'of', 'systolic_and', 'diastolic_blood', 'pressure', ',', 'respectively', ')', 'as', 'compared', 'to_the', 'administration', 'of', 'the_drug', 'on', 'awakening', '(', '6.2', 'and', '3.7', 'mmhg_reduction', 'in', 'systolic_and', 'diastolic_blood', 'pressure', ')', '.', 'the', 'percentage', 'of', 'patients_with', 'controlled', 'ambulatory', 'blood_pressure', 'after', 'treatment', 'was', 'also', 'higher', 'after', 'bedtime', 'treatment', '(', '54', '%', 'versus', '27', '%', ')', '.', 'the', 'time-response', 'curves', 'indicate', 'a', 'full', '24-hour', 'therapeutic', 'duration', 'only', 'when', 'torasemide_was', 'administered', 'before', 'bedtime', '.', 'with', 'regard', 'to_the', 'safety', 'profile', ',', '2', 'patients', 'presented', 'secondary', 'effects', '(', 'abdominal', 'pain', ',', 'diarrhea', ')', 'in', 'morning', 'dose', ',', 'and', '4', 'patients', 'taking', 'the_drug', 'at_bedtime', 'reported', 'nicturia', '.']\n",
      "\n",
      "----------------------trigrams vocabulary------------------------\n",
      "['we', 'studied', '58', 'patients_with', 'grade', '1-2', 'essential', 'hypertension', '(', '25', 'men', 'and', '33', 'women', ')', ',', '48.7', '(', '11.9', ')', 'years', 'of', 'age', ',', 'randomly', 'assigned', 'to', 'receive', 'torasemide', '(', '5', 'mg/day', ')', 'either', 'upon', 'awakening', 'or', 'at', 'bedtime', '.', 'blood', 'pressure', 'was', 'measured', 'by', 'ambulatory', 'monitoring', 'for', '48', 'consecutive', 'hours', 'before', 'and', 'after', '6', 'weeks', 'of', 'therapy', '.', 'efficacy', 'of', 'torasemide_was', 'significantly', 'higher', 'with', 'bedtime', 'dosing', '(', '11.2', 'and', '8.0', 'mmhg', 'reduction', 'in', 'the', '24-hour', 'mean', 'of', 'systolic', 'and', 'diastolic', 'blood', 'pressure', ',', 'respectively', ')', 'as', 'compared', 'to_the', 'administration', 'of', 'the', 'drug', 'on', 'awakening', '(', '6.2', 'and', '3.7', 'mmhg', 'reduction', 'in', 'systolic', 'and', 'diastolic', 'blood', 'pressure', ')', '._the', 'percentage', 'of', 'patients_with', 'controlled', 'ambulatory', 'blood', 'pressure', 'after', 'treatment', 'was', 'also', 'higher', 'after', 'bedtime', 'treatment', '(', '54', '%', 'versus', '27', '%', ')', '._the', 'time-response', 'curves', 'indicate', 'a', 'full', '24-hour', 'therapeutic', 'duration', 'only', 'when', 'torasemide_was', 'administered', 'before', 'bedtime', '.', 'with', 'regard', 'to_the', 'safety', 'profile', ',', '2', 'patients', 'presented', 'secondary', 'effects', '(', 'abdominal', 'pain', ',', 'diarrhea', ')', 'in', 'morning', 'dose', ',', 'and', '4', 'patients', 'taking', 'the', 'drug', 'at', 'bedtime', 'reported', 'nicturia', '.']\n"
     ]
    }
   ],
   "source": [
    "from gensim.models import Word2Vec\n",
    "from gensim.models import Phrases\n",
    "\n",
    "# Train a bigrams detector.\n",
    "bigram_transformer = Phrases(st ,min_count=1)\n",
    "# Train a trigrams detector.\n",
    "trigram_model = Phrases(bigram_transformer[st], min_count=1)\n",
    "# Apply the trained MWE detector to a corpus, using the result to train a Word2vec model.\n",
    "modelsurv = Word2Vec(trigram_model[st], min_count=1,vector_size=1)\n",
    "# summarize the loaded model\n",
    "print(modelsurv)\n",
    "print('')\n",
    "print('----------------------bigrams vocabulary------------------------')\n",
    "print(bigram_transformer[st[0]])\n",
    "print('')\n",
    "print('----------------------trigrams vocabulary------------------------')\n",
    "print(trigram_model[st[0]])\n"
   ]
  },
  {
   "cell_type": "code",
   "execution_count": 75,
   "id": "066c6a16",
   "metadata": {},
   "outputs": [
    {
     "name": "stdout",
     "output_type": "stream",
     "text": [
      "[('taking', 1.0), ('58', 1.0), ('morning', 1.0), ('33', 1.0), ('5', 1.0), ('men', 1.0), ('4', 1.0), ('diarrhea', 1.0), ('therapy', 1.0), ('monitoring', 1.0)]\n"
     ]
    }
   ],
   "source": [
    "print(modelsurv.wv.similar_by_word('pain') )\n"
   ]
  },
  {
   "cell_type": "code",
   "execution_count": 95,
   "id": "3cea56f0",
   "metadata": {},
   "outputs": [
    {
     "name": "stdout",
     "output_type": "stream",
     "text": [
      "[[0.6105944 ]\n",
      " [0.5005316 ]\n",
      " [0.7067552 ]\n",
      " [0.92289865]\n",
      " [0.49819764]\n",
      " [0.96166325]\n",
      " [0.18716264]\n",
      " [0.5394914 ]\n",
      " [0.01793066]\n",
      " [0.00394899]]\n",
      "[0.28335705]\n"
     ]
    }
   ],
   "source": [
    "print(modelsurv.wv['taking', '58', 'morning', '33', '5', 'men', '4','diarrhea', 'therapy', 'monitoring'])\n",
    "print(modelsurv.wv['pain'])  "
   ]
  },
  {
   "cell_type": "code",
   "execution_count": 96,
   "id": "fde6ea02",
   "metadata": {},
   "outputs": [
    {
     "name": "stdout",
     "output_type": "stream",
     "text": [
      "Word2Vec<vocab=112, vector_size=2, alpha=0.025>\n"
     ]
    }
   ],
   "source": [
    "from gensim.models import Word2Vec\n",
    "\n",
    "modelsurv = Word2Vec(trigram_model[st], min_count=1,vector_size=2)\n",
    "# summarize the loaded model\n",
    "print(modelsurv)\n"
   ]
  },
  {
   "cell_type": "code",
   "execution_count": 97,
   "id": "35603df0",
   "metadata": {},
   "outputs": [
    {
     "name": "stdout",
     "output_type": "stream",
     "text": [
      "[-0.23098792 -0.2545884 ]\n",
      "[('in', 0.9998037219047546), ('treatment', 0.9908170104026794), ('5', 0.9865343570709229), ('and', 0.9845057725906372), (',', 0.9835978746414185), ('versus', 0.9735211730003357), ('3.7', 0.9726430177688599), ('patients', 0.9696356058120728), ('54', 0.9589055776596069), ('age', 0.9526700973510742)]\n"
     ]
    }
   ],
   "source": [
    "print(modelsurv.wv['pain'])\n",
    "print(modelsurv.wv.similar_by_word('pain')  )\n"
   ]
  },
  {
   "cell_type": "code",
   "execution_count": 99,
   "id": "146d67b2",
   "metadata": {},
   "outputs": [
    {
     "name": "stdout",
     "output_type": "stream",
     "text": [
      "[[-0.4115079  -0.47201037]\n",
      " [-0.1150506  -0.09657925]\n",
      " [-0.44531226 -0.35256213]\n",
      " [-0.46140197 -0.35639903]\n",
      " [-0.24773176 -0.18934318]\n",
      " [-0.3522022  -0.24267863]\n",
      " [-0.2312602  -0.1580495 ]\n",
      " [-0.2047189  -0.3840178 ]\n",
      " [-0.42150897 -0.25628036]\n",
      " [-0.14083694 -0.308766  ]]\n"
     ]
    }
   ],
   "source": [
    "print(modelsurv.wv['in','treatment', '5','and', ',', 'versus', '3.7', 'patients', '54','age'])\n"
   ]
  },
  {
   "cell_type": "code",
   "execution_count": 100,
   "id": "936486ee",
   "metadata": {},
   "outputs": [
    {
     "name": "stdout",
     "output_type": "stream",
     "text": [
      "Word2Vec<vocab=112, vector_size=3, alpha=0.025>\n",
      "[0.22548167 0.13275883 0.15219149]\n"
     ]
    }
   ],
   "source": [
    "from gensim.models import Word2Vec\n",
    "modelsurv = Word2Vec(trigram_model[st], min_count=1,vector_size=3)\n",
    "# summarize the loaded model\n",
    "print(modelsurv)\n",
    "print(modelsurv.wv['pain'])"
   ]
  },
  {
   "cell_type": "code",
   "execution_count": 101,
   "id": "03aa4039",
   "metadata": {},
   "outputs": [
    {
     "name": "stdout",
     "output_type": "stream",
     "text": [
      "[('mean', 0.9982408285140991), ('25', 0.9786575436592102), ('as', 0.9452399015426636), ('essential', 0.9423237442970276), ('54', 0.9145769476890564), ('monitoring', 0.8655322194099426), ('torasemide_was', 0.857821524143219), ('hours', 0.848102867603302), ('administration', 0.8448140621185303), ('.', 0.840864360332489)]\n",
      "[[0.26518816 0.17964341 0.19667813]\n",
      " [0.31773344 0.30941015 0.26362643]\n",
      " [0.13277622 0.17388579 0.14334722]\n",
      " [0.17275643 0.19149281 0.24930769]\n",
      " [0.12832151 0.06772351 0.01643269]\n",
      " [0.11053705 0.24084729 0.2283875 ]\n",
      " [0.0931402  0.1802963  0.23674062]\n",
      " [0.09226862 0.22961652 0.20422252]\n",
      " [0.09080381 0.2316488  0.2034792 ]\n",
      " [0.16758291 0.22529724 0.0269487 ]]\n"
     ]
    }
   ],
   "source": [
    "print(modelsurv.wv.similar_by_word('pain')  )\n",
    "print(modelsurv.wv['mean', '25', 'as', 'essential', '54', 'monitoring', 'torasemide_was', 'hours', 'administration', '.'])\n"
   ]
  },
  {
   "cell_type": "code",
   "execution_count": 102,
   "id": "6466d2e8",
   "metadata": {},
   "outputs": [
    {
     "name": "stdout",
     "output_type": "stream",
     "text": [
      "['fifty', 'patients', 'successfully', 'completed', 'the', 'study', 'protocol', '.', 'patients', 'receiving', 'combinations', 'of', 'morphine', ',', 'bupivacaine', ',', 'and', 'epinephrine', 'or', 'bupivacaine', 'and', 'epinephrine', 'yielded', 'lower', 'pain', 'scores', 'and', 'narcotics', 'consumption', 'than', 'patients', 'receiving', 'epinephrine', 'alone', ',', 'which', 'was', 'statistically', 'significant', 'irrespective', 'of', 'the', 'timing', 'of', 'injection', '(', 'p', '<', '.0001', ')', '.', 'patients', 'receiving', 'the', 'study', 'medication', 'preoperatively', 'had', 'significantly', 'lower', 'pain', 'scores', 'at', 'the', 'first', 'measurement', '(', 't', '=', '0', ')', 'than', 'those', 'receiving', 'the', 'study', 'medication', 'postoperatively', '(', 'p', '=', '.0343', ')', '.', 'there', 'was', 'no', 'statistically', 'significant', 'effect', 'of', 'timing', 'of', 'the', 'treatment', 'medication', 'administration', 'at', 'either', '60', 'or', '120', 'minutes', 'postoperatively', '.', 'comparison', 'of', 'fentanyl', 'consumption', 'between', 'groups', 'receiving', 'the', 'treatment', 'medication', 'preoperatively', 'versus', 'postoperatively', 'showed', 'no', 'significant', 'difference', '.the', 'combination', 'of', 'morphine', ',', 'bupivacaine', ',', 'and', 'epinephrine', ',', 'as', 'well', 'as', 'the', 'combination', 'of', 'bupivacaine', 'and', 'epinephrine', 'provide', 'excellent', 'postoperative', 'pain', 'control', 'when', 'used', 'either', 'preoperatively', 'or', 'postoperatively', 'in', 'knee', 'arthroscop', '.', 'there', 'was', 'a', 'trend', 'that', 'patients', 'receiving', 'preoperative', 'analgesic', 'injections', 'experienced', 'superior', 'pain', 'control', 'than', 'did', 'those', 'injected', 'postoperatively', '.']\n"
     ]
    }
   ],
   "source": [
    "## PubMed_200k_RCT\n",
    "import numpy as np # linear algebra\n",
    "import os # accessing directory structure\n",
    "import pandas as pd\n",
    "from nltk.tokenize import word_tokenize\n",
    "sentences=[\"Fifty patients successfully completed the study protocol . Patients receiving combinations of morphine  , bupivacaine , and epinephrine or bupivacaine and epinephrine yielded lower pain scores and narcotics consumption than patients receiving epinephrine alone , which was statistically significant irrespective of the timing of injection ( P < .0001 ) . \tPatients receiving the study medication preoperatively had significantly lower pain scores at the first measurement ( t = 0 ) than those receiving the study medication postoperatively ( P = .0343 ) . There was no statistically significant effect of timing of the treatment medication administration at either 60 or 120 minutes postoperatively . Comparison of fentanyl consumption between groups receiving the treatment medication preoperatively versus postoperatively showed no significant difference .The combination of morphine , bupivacaine , and epinephrine , as well as the combination of bupivacaine and epinephrine provide excellent postoperative pain control when used either preoperatively or postoperatively in knee arthroscop . There was a trend that patients receiving preoperative analgesic injections experienced superior pain control than did those injected postoperatively . \"]\n",
    "st=[]\n",
    "for sent in sentences:\n",
    "    tokens = word_tokenize(sent)\n",
    "    tokens = [w.lower() for w in tokens]\n",
    "    st.append(tokens)\n",
    "print(st[0])\n"
   ]
  },
  {
   "cell_type": "code",
   "execution_count": 104,
   "id": "1cf10b66",
   "metadata": {},
   "outputs": [
    {
     "name": "stdout",
     "output_type": "stream",
     "text": [
      "Word2Vec<vocab=95, vector_size=1, alpha=0.025>\n",
      "\n",
      "----------------------bigrams vocabulary------------------------\n",
      "['fifty', 'patients', 'successfully', 'completed', 'the_study', 'protocol', '.', 'patients_receiving', 'combinations', 'of_morphine', ',', 'bupivacaine', ',', 'and_epinephrine', 'or', 'bupivacaine_and', 'epinephrine', 'yielded', 'lower_pain', 'scores', 'and', 'narcotics', 'consumption', 'than', 'patients_receiving', 'epinephrine', 'alone', ',', 'which', 'was', 'statistically_significant', 'irrespective', 'of', 'the', 'timing_of', 'injection', '(_p', '<', '.0001', ')_.', 'patients_receiving', 'the_study', 'medication_preoperatively', 'had', 'significantly', 'lower_pain', 'scores', 'at', 'the', 'first', 'measurement', '(', 't', '=', '0', ')', 'than', 'those', 'receiving', 'the_study', 'medication', 'postoperatively', '(_p', '=', '.0343', ')_.', 'there_was', 'no', 'statistically_significant', 'effect', 'of', 'timing_of', 'the_treatment', 'medication', 'administration', 'at', 'either', '60', 'or', '120', 'minutes', 'postoperatively', '.', 'comparison', 'of', 'fentanyl', 'consumption', 'between', 'groups', 'receiving', 'the_treatment', 'medication_preoperatively', 'versus', 'postoperatively', 'showed', 'no', 'significant', 'difference', '.the', 'combination_of', 'morphine_,', 'bupivacaine', ',', 'and_epinephrine', ',', 'as', 'well', 'as', 'the', 'combination_of', 'bupivacaine_and', 'epinephrine', 'provide', 'excellent', 'postoperative', 'pain_control', 'when', 'used', 'either', 'preoperatively', 'or', 'postoperatively', 'in', 'knee', 'arthroscop', '._there', 'was', 'a', 'trend', 'that', 'patients_receiving', 'preoperative', 'analgesic', 'injections', 'experienced', 'superior', 'pain_control', 'than', 'did', 'those', 'injected', 'postoperatively', '.']\n",
      "\n",
      "----------------------trigrams vocabulary------------------------\n",
      "['fifty', 'patients', 'successfully', 'completed', 'the', 'study', 'protocol', '.', 'patients_receiving', 'combinations', 'of', 'morphine', ',', 'bupivacaine_,', 'and_epinephrine', 'or', 'bupivacaine_and', 'epinephrine', 'yielded', 'lower', 'pain', 'scores', 'and', 'narcotics', 'consumption', 'than', 'patients_receiving', 'epinephrine', 'alone', ',', 'which', 'was', 'statistically', 'significant', 'irrespective', 'of', 'the', 'timing', 'of', 'injection', '(', 'p', '<', '.0001', ')_.', 'patients_receiving', 'the', 'study', 'medication_preoperatively', 'had', 'significantly', 'lower', 'pain', 'scores', 'at', 'the', 'first', 'measurement', '(', 't', '=', '0', ')', 'than', 'those', 'receiving', 'the', 'study', 'medication', 'postoperatively', '(', 'p', '=', '.0343', ')_.', 'there', 'was', 'no', 'statistically', 'significant', 'effect', 'of', 'timing', 'of', 'the', 'treatment', 'medication', 'administration', 'at', 'either', '60', 'or', '120', 'minutes', 'postoperatively_.', 'comparison', 'of', 'fentanyl', 'consumption', 'between', 'groups', 'receiving', 'the', 'treatment', 'medication_preoperatively', 'versus', 'postoperatively', 'showed', 'no', 'significant', 'difference', '.the', 'combination', 'of', 'morphine', ',', 'bupivacaine_,', 'and_epinephrine', ',', 'as', 'well', 'as', 'the', 'combination', 'of', 'bupivacaine_and', 'epinephrine', 'provide', 'excellent', 'postoperative', 'pain', 'control', 'when', 'used', 'either', 'preoperatively', 'or', 'postoperatively', 'in', 'knee', 'arthroscop', '.', 'there', 'was', 'a', 'trend', 'that', 'patients_receiving', 'preoperative', 'analgesic', 'injections', 'experienced', 'superior', 'pain', 'control', 'than', 'did', 'those', 'injected', 'postoperatively_.']\n",
      "[0.5103646]\n"
     ]
    }
   ],
   "source": [
    "from gensim.models import Word2Vec\n",
    "# Train a bigrams detector.\n",
    "bigram_transformer = Phrases(st,min_count=1)\n",
    "# Train a trigrams detector.\n",
    "trigram_model = Phrases(bigram_transformer[st],min_count=1)\n",
    "modelsurv = Word2Vec(trigram_model[st], min_count=1,vector_size=1)\n",
    "# summarize the loaded model\n",
    "print(modelsurv)\n",
    "print('')\n",
    "print('----------------------bigrams vocabulary------------------------')\n",
    "print(bigram_transformer[st[0]])\n",
    "print('')\n",
    "print('----------------------trigrams vocabulary------------------------')\n",
    "print(trigram_model[st[0]])\n",
    "print(modelsurv.wv['pain'])"
   ]
  },
  {
   "cell_type": "code",
   "execution_count": 105,
   "id": "dd9cd493",
   "metadata": {},
   "outputs": [
    {
     "name": "stdout",
     "output_type": "stream",
     "text": [
      "[('0', 1.0), ('narcotics', 1.0), ('trend', 1.0), ('arthroscop', 1.0), ('used', 1.0), ('postoperative', 1.0), ('significantly', 1.0), ('analgesic', 1.0), ('of', 1.0), ('combinations', 1.0)]\n",
      "[[0.8493105 ]\n",
      " [0.08375952]\n",
      " [0.5537608 ]\n",
      " [0.2469937 ]\n",
      " [0.03202793]\n",
      " [0.9398504 ]\n",
      " [0.450108  ]\n",
      " [0.5457539 ]\n",
      " [0.0255945 ]\n",
      " [0.49902794]]\n"
     ]
    }
   ],
   "source": [
    "print(modelsurv.wv.similar_by_word('pain')  )\n",
    "print(modelsurv.wv['0', 'narcotics', 'trend', 'arthroscop', 'used','postoperative','significantly','analgesic', 'of', 'combinations'])\n"
   ]
  },
  {
   "cell_type": "code",
   "execution_count": 106,
   "id": "7cb88fc9",
   "metadata": {},
   "outputs": [
    {
     "name": "stdout",
     "output_type": "stream",
     "text": [
      "Word2Vec<vocab=95, vector_size=2, alpha=0.025>\n",
      "[-0.4636522  -0.35459137]\n"
     ]
    }
   ],
   "source": [
    "from gensim.models import Word2Vec\n",
    "modelsurv = Word2Vec(trigram_model[st], min_count=1,vector_size=2)\n",
    "# summarize the loaded model\n",
    "print(modelsurv)\n",
    "print(modelsurv.wv['pain'])"
   ]
  },
  {
   "cell_type": "code",
   "execution_count": 64,
   "id": "3b624dc0",
   "metadata": {},
   "outputs": [
    {
     "name": "stdout",
     "output_type": "stream",
     "text": [
      "[(',', 0.9999579191207886), ('combinations', 0.9998782873153687), ('receiving', 0.9990940093994141), ('consumption', 0.9853981137275696), ('did', 0.9837632775306702), ('medication', 0.982304036617279), ('significant', 0.9801374077796936), ('study', 0.9565151333808899), ('minutes', 0.9506329894065857), ('and_epinephrine', 0.9111006259918213)]\n",
      "[[-0.24930601 -0.18706113]\n",
      " [-0.4451101  -0.35155383]\n",
      " [-0.11509008 -0.09604973]\n",
      " [-0.3751949  -0.19618651]\n",
      " [-0.23062682 -0.253873  ]\n",
      " [-0.43568096 -0.21829759]\n",
      " [-0.41109943 -0.47036785]\n",
      " [-0.2419119  -0.09020312]\n",
      " [-0.35267022 -0.12370813]\n",
      " [-0.20594889 -0.3832909 ]]\n"
     ]
    }
   ],
   "source": [
    "print(modelsurv.wv.similar_by_word('pain')  )\n",
    "\n",
    "print(modelsurv.wv[',','combinations','receiving', 'consumption','did','medication','significant', 'study', 'minutes',  'and_epinephrine'])\n",
    "   "
   ]
  },
  {
   "cell_type": "code",
   "execution_count": 108,
   "id": "47e7eed1",
   "metadata": {},
   "outputs": [
    {
     "name": "stdout",
     "output_type": "stream",
     "text": [
      "Word2Vec<vocab=95, vector_size=3, alpha=0.025>\n",
      "[ 0.21572146  0.29864302 -0.16524498]\n"
     ]
    }
   ],
   "source": [
    "from gensim.models import Word2Vec\n",
    "modelsurv = Word2Vec(trigram_model[st], min_count=1,vector_size=3)\n",
    "# summarize the loaded model\n",
    "print(modelsurv)\n",
    "print(modelsurv.wv['pain'])"
   ]
  },
  {
   "cell_type": "code",
   "execution_count": 109,
   "id": "16c07724",
   "metadata": {},
   "outputs": [
    {
     "name": "stdout",
     "output_type": "stream",
     "text": [
      "[('irrespective', 0.9964429140090942), ('had', 0.9919702410697937), ('arthroscop', 0.9877837300300598), ('that', 0.9812530279159546), ('significantly', 0.9771116971969604), ('experienced', 0.9679858684539795), (')_.', 0.9660633206367493), ('patients', 0.8903506994247437), ('injections', 0.8791106939315796), ('study', 0.8691991567611694)]\n",
      "[[ 0.22379622  0.33212948 -0.14296813]\n",
      " [ 0.17903066  0.25912097 -0.19184026]\n",
      " [ 0.08914407  0.1780025  -0.07786801]\n",
      " [ 0.25630277  0.24449047 -0.12103351]\n",
      " [ 0.24867457  0.22045918 -0.12286336]\n",
      " [ 0.17249042  0.33039948 -0.2792777 ]\n",
      " [ 0.16618471  0.30748588 -0.27023163]\n",
      " [ 0.30055556  0.21778217 -0.02308276]\n",
      " [ 0.02981601  0.24966174 -0.20000722]\n",
      " [ 0.16935368  0.22482501  0.02687985]]\n"
     ]
    }
   ],
   "source": [
    "print(modelsurv.wv.similar_by_word('pain')  )\n",
    "print(modelsurv.wv['irrespective', 'had', 'arthroscop','that','significantly', 'experienced', ')_.','patients', 'injections','study'])\n"
   ]
  }
 ],
 "metadata": {
  "kernelspec": {
   "display_name": "Python 3 (ipykernel)",
   "language": "python",
   "name": "python3"
  },
  "language_info": {
   "codemirror_mode": {
    "name": "ipython",
    "version": 3
   },
   "file_extension": ".py",
   "mimetype": "text/x-python",
   "name": "python",
   "nbconvert_exporter": "python",
   "pygments_lexer": "ipython3",
   "version": "3.7.10"
  }
 },
 "nbformat": 4,
 "nbformat_minor": 5
}
