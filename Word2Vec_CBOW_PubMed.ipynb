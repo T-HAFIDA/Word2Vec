{
 "cells": [
  {
   "cell_type": "markdown",
   "id": "9a459ba0",
   "metadata": {},
   "source": [
    "# Installation of the gensim library\n",
    "For more information consult the site (https://pypi.org/project/gensim/) "
   ]
  },
  {
   "cell_type": "code",
   "execution_count": 6,
   "id": "8dce3115",
   "metadata": {},
   "outputs": [
    {
     "name": "stdout",
     "output_type": "stream",
     "text": [
      "Requirement already satisfied: gensim in c:\\users\\user\\anaconda3\\envs\\pythonproject1\\lib\\site-packages (4.2.0)\n",
      "Requirement already satisfied: smart-open>=1.8.1 in c:\\users\\user\\anaconda3\\envs\\pythonproject1\\lib\\site-packages (from gensim) (5.2.0)\n",
      "Requirement already satisfied: Cython==0.29.28 in c:\\users\\user\\anaconda3\\envs\\pythonproject1\\lib\\site-packages (from gensim) (0.29.28)\n",
      "Requirement already satisfied: scipy>=0.18.1 in c:\\users\\user\\anaconda3\\envs\\pythonproject1\\lib\\site-packages (from gensim) (1.7.1)\n",
      "Requirement already satisfied: numpy>=1.17.0 in c:\\users\\user\\anaconda3\\envs\\pythonproject1\\lib\\site-packages (from gensim) (1.20.3)\n"
     ]
    }
   ],
   "source": [
    "!pip install -U gensim"
   ]
  },
  {
   "cell_type": "markdown",
   "id": "3b47d9a8",
   "metadata": {},
   "source": [
    "### Tokenize the text"
   ]
  },
  {
   "cell_type": "code",
   "execution_count": 49,
   "id": "24566c39",
   "metadata": {},
   "outputs": [
    {
     "name": "stdout",
     "output_type": "stream",
     "text": [
      "['we', 'studied', '58', 'patients', 'with', 'grade', '1-2', 'essential', 'hypertension', '(', '25', 'men', 'and', '33', 'women', ')', ',', '48.7', '(', '11.9', ')', 'years', 'of', 'age', ',', 'randomly', 'assigned', 'to', 'receive', 'torasemide', '(', '5', 'mg/day', ')', 'either', 'upon', 'awakening', 'or', 'at', 'bedtime', '.', 'blood', 'pressure', 'was', 'measured', 'by', 'ambulatory', 'monitoring', 'for', '48', 'consecutive', 'hours', 'before', 'and', 'after', '6', 'weeks', 'of', 'therapy', '.', 'efficacy', 'of', 'torasemide', 'was', 'significantly', 'higher', 'with', 'bedtime', 'dosing', '(', '11.2', 'and', '8.0', 'mmhg', 'reduction', 'in', 'the', '24-hour', 'mean', 'of', 'systolic', 'and', 'diastolic', 'blood', 'pressure', ',', 'respectively', ')', 'as', 'compared', 'to', 'the', 'administration', 'of', 'the', 'drug', 'on', 'awakening', '(', '6.2', 'and', '3.7', 'mmhg', 'reduction', 'in', 'systolic', 'and', 'diastolic', 'blood', 'pressure', ')', '.', 'the', 'percentage', 'of', 'patients', 'with', 'controlled', 'ambulatory', 'blood', 'pressure', 'after', 'treatment', 'was', 'also', 'higher', 'after', 'bedtime', 'treatment', '(', '54', '%', 'versus', '27', '%', ')', '.', 'the', 'time-response', 'curves', 'indicate', 'a', 'full', '24-hour', 'therapeutic', 'duration', 'only', 'when', 'torasemide', 'was', 'administered', 'before', 'bedtime', '.', 'with', 'regard', 'to', 'the', 'safety', 'profile', ',', '2', 'patients', 'presented', 'secondary', 'effects', '(', 'abdominal', 'pain', ',', 'diarrhea', ')', 'in', 'morning', 'dose', ',', 'and', '4', 'patients', 'taking', 'the', 'drug', 'at', 'bedtime', 'reported', 'nicturia', '.']\n"
     ]
    }
   ],
   "source": [
    "import numpy as np # linear algebra\n",
    "import os # accessing directory structure\n",
    "import pandas as pd\n",
    "from nltk.tokenize import word_tokenize\n",
    "sentences=[ \"We studied 58 patients with grade 1-2 essential hypertension ( 25 men and 33 women ) , 48.7 ( 11.9 ) years of age , randomly assigned to receive torasemide ( 5 mg/day ) either upon awakening or at bedtime .  Blood pressure was measured by ambulatory monitoring for 48 consecutive hours before and after 6 weeks of therapy . Efficacy of torasemide was significantly higher with bedtime dosing ( 11.2 and 8.0 mmHg reduction in the 24-hour mean of systolic and diastolic blood pressure , respectively ) as compared to the administration of the drug on awakening ( 6.2 and 3.7 mmHg reduction in systolic and diastolic blood pressure ) . The percentage of patients with controlled ambulatory blood pressure after treatment was also higher after bedtime treatment ( 54 % versus 27 % ) . The time-response curves indicate a full 24-hour therapeutic duration only when torasemide was administered before bedtime . With regard to the safety profile , 2 patients presented secondary effects ( abdominal pain , diarrhea ) in morning dose , and 4 patients taking the drug at bedtime reported nicturia . \"]\n",
    "st=[]\n",
    "for sent in sentences:\n",
    "    tokens = word_tokenize(sent)\n",
    "    tokens = [w.lower() for w in tokens]\n",
    "    st.append(tokens)\n",
    "print(st[0])\n",
    "\n"
   ]
  },
  {
   "cell_type": "markdown",
   "id": "df38c543",
   "metadata": {},
   "source": [
    "# Train the model for one dimension\n"
   ]
  },
  {
   "cell_type": "code",
   "execution_count": 50,
   "id": "88fdd2f1",
   "metadata": {
    "scrolled": false
   },
   "outputs": [
    {
     "name": "stdout",
     "output_type": "stream",
     "text": [
      "Word2Vec<vocab=108, vector_size=1, alpha=0.025>\n",
      "[')', 'the', '(', 'and', 'of', '.', ',', 'bedtime', 'pressure', 'patients', 'with', 'blood', 'was', 'in', 'to', 'after', 'torasemide', 'diastolic', '%', 'before', 'treatment', 'awakening', 'systolic', 'reduction', '24-hour', 'drug', 'mmhg', 'ambulatory', 'higher', 'at', 'measured', 'by', 'monitoring', 'for', '48', 'consecutive', 'hours', 'nicturia', 'or', 'upon', 'studied', '58', 'grade', '1-2', 'essential', 'hypertension', '25', 'men', '33', 'women', '48.7', '11.9', 'years', 'age', 'randomly', 'assigned', 'receive', '5', 'either', 'mg/day', 'significantly', '6', '2', 'full', 'therapeutic', 'duration', 'only', 'when', 'administered', 'regard', 'safety', 'profile', 'presented', 'indicate', 'secondary', 'effects', 'abdominal', 'pain', 'diarrhea', 'morning', 'dose', '4', 'taking', 'a', 'curves', 'weeks', 'compared', 'therapy', 'efficacy', 'reported', 'dosing', '11.2', '8.0', 'mean', 'respectively', 'as', 'administration', 'time-response', 'on', '6.2', '3.7', 'percentage', 'controlled', 'also', '54', 'versus', '27', 'we']\n"
     ]
    }
   ],
   "source": [
    "from gensim.models import Word2Vec\n",
    "modelsurv = Word2Vec(st,min_count=1,vector_size=1)\n",
    "# summarize the loaded model\n",
    "print(modelsurv)\n",
    "# summarize vocabulary\n",
    "words = list(modelsurv.wv.key_to_index)\n",
    "print(words)\n"
   ]
  },
  {
   "cell_type": "markdown",
   "id": "79a0208e",
   "metadata": {},
   "source": [
    "# Save the model.\n",
    "### We can use the saved mother later. The saved model name is: new_model"
   ]
  },
  {
   "cell_type": "code",
   "execution_count": 54,
   "id": "59e864e1",
   "metadata": {},
   "outputs": [
    {
     "name": "stdout",
     "output_type": "stream",
     "text": [
      "Word2Vec<vocab=108, vector_size=1, alpha=0.025>\n"
     ]
    }
   ],
   "source": [
    "# save model\n",
    "modelsurv.save('C:/Users/user/Nouveau dossier/modelW2V50surv1.bin')\n",
    "# load model\n",
    "new_model = Word2Vec.load('C:/Users/user/Nouveau dossier/modelW2V50surv1.bin')\n",
    "print(new_model)\n"
   ]
  },
  {
   "cell_type": "markdown",
   "id": "8706da47",
   "metadata": {},
   "source": [
    "### print the digital representation of 'pain' (vector one dimension)"
   ]
  },
  {
   "cell_type": "code",
   "execution_count": 51,
   "id": "82133df2",
   "metadata": {},
   "outputs": [
    {
     "name": "stdout",
     "output_type": "stream",
     "text": [
      "[-0.08035642]\n"
     ]
    }
   ],
   "source": [
    "print(modelsurv.wv['pain'])"
   ]
  },
  {
   "cell_type": "markdown",
   "id": "1ed33c4a",
   "metadata": {},
   "source": [
    "### Print the ten first similar word of 'pain'"
   ]
  },
  {
   "cell_type": "code",
   "execution_count": 55,
   "id": "18a8d094",
   "metadata": {},
   "outputs": [
    {
     "name": "stdout",
     "output_type": "stream",
     "text": [
      "[('1-2', 1.0), ('grade', 1.0), ('therapy', 1.0), ('efficacy', 1.0), ('25', 1.0), ('hypertension', 1.0), ('essential', 1.0), ('years', 1.0), (')', 1.0), ('nicturia', 1.0)]\n"
     ]
    }
   ],
   "source": [
    "print(modelsurv.wv.similar_by_word('pain') )"
   ]
  },
  {
   "cell_type": "markdown",
   "id": "ecef2d34",
   "metadata": {},
   "source": [
    "### Print the numeric representaion of  the ten first similar word of 'pain'"
   ]
  },
  {
   "cell_type": "code",
   "execution_count": 56,
   "id": "3cea56f0",
   "metadata": {},
   "outputs": [
    {
     "name": "stdout",
     "output_type": "stream",
     "text": [
      "[[-0.4403279 ]\n",
      " [-0.8769923 ]\n",
      " [-0.48153663]\n",
      " [-0.3108462 ]\n",
      " [-0.7665176 ]\n",
      " [-0.02992293]\n",
      " [-0.00310332]\n",
      " [-0.41340765]\n",
      " [-0.05348039]\n",
      " [-0.5937165 ]]\n"
     ]
    }
   ],
   "source": [
    "print(modelsurv.wv['1-2', 'grade','therapy', 'efficacy', '25', 'hypertension', 'essential','years',')','nicturia'])\n"
   ]
  },
  {
   "cell_type": "markdown",
   "id": "a6a5b575",
   "metadata": {},
   "source": [
    "# Train the model for two dimensions"
   ]
  },
  {
   "cell_type": "code",
   "execution_count": 58,
   "id": "fde6ea02",
   "metadata": {},
   "outputs": [
    {
     "name": "stdout",
     "output_type": "stream",
     "text": [
      "Word2Vec<vocab=108, vector_size=2, alpha=0.025>\n"
     ]
    }
   ],
   "source": [
    "from gensim.models import Word2Vec\n",
    "modelsurv = Word2Vec(st,min_count=1,vector_size=2)\n",
    "# summarize the loaded model\n",
    "print(modelsurv)\n",
    "# summarize vocabulary\n",
    "words = list(modelsurv.wv.key_to_index)\n"
   ]
  },
  {
   "cell_type": "code",
   "execution_count": 59,
   "id": "35603df0",
   "metadata": {},
   "outputs": [
    {
     "name": "stdout",
     "output_type": "stream",
     "text": [
      "[('morning', 0.9998209476470947), ('in', 0.999091386795044), ('for', 0.9988946914672852), ('abdominal', 0.9983839988708496), ('therapeutic', 0.9903562664985657), ('3.7', 0.9883396625518799), ('studied', 0.9833154082298279), ('at', 0.9693064093589783), ('women', 0.9684476256370544), ('presented', 0.9662796258926392)]\n",
      "[-0.04514251  0.4190363 ]\n"
     ]
    }
   ],
   "source": [
    "print(modelsurv.wv.similar_by_word('pain')  )\n",
    "print(modelsurv.wv['pain'])"
   ]
  },
  {
   "cell_type": "code",
   "execution_count": 15,
   "id": "146d67b2",
   "metadata": {},
   "outputs": [
    {
     "name": "stdout",
     "output_type": "stream",
     "text": [
      "[[-0.03414124  0.38525942]\n",
      " [-0.04363778  0.28883508]\n",
      " [-0.0430724   0.27686176]\n",
      " [-0.00874919  0.17324676]\n",
      " [-0.08426419  0.3351643 ]\n",
      " [ 0.0070153   0.15392697]\n",
      " [-0.04220278  0.14129873]\n",
      " [-0.17484386  0.47061527]\n",
      " [ 0.04652259  0.3195849 ]\n",
      " [-0.15218966  0.3950207 ]]\n"
     ]
    }
   ],
   "source": [
    "print(modelsurv.wv['morning','in', 'for','abdominal', 'therapeutic', '3.7', 'studied', 'at', 'women', 'presented'])"
   ]
  },
  {
   "cell_type": "markdown",
   "id": "954afe77",
   "metadata": {},
   "source": [
    "# Train the model for three dimensions"
   ]
  },
  {
   "cell_type": "code",
   "execution_count": 62,
   "id": "936486ee",
   "metadata": {},
   "outputs": [
    {
     "name": "stdout",
     "output_type": "stream",
     "text": [
      "Word2Vec<vocab=108, vector_size=3, alpha=0.025>\n"
     ]
    }
   ],
   "source": [
    "from gensim.models import Word2Vec\n",
    "modelsurv = Word2Vec(st,min_count=1,vector_size=3)\n",
    "# summarize the loaded model\n",
    "print(modelsurv)\n"
   ]
  },
  {
   "cell_type": "code",
   "execution_count": 61,
   "id": "03aa4039",
   "metadata": {},
   "outputs": [
    {
     "name": "stdout",
     "output_type": "stream",
     "text": [
      "[('men', 0.9709595441818237), ('indicate', 0.9514273405075073), ('monitoring', 0.9453224539756775), ('hours', 0.9244577884674072), ('to', 0.9184786081314087), ('blood', 0.8867395520210266), ('curves', 0.884228527545929), ('mmhg', 0.8744677305221558), ('as', 0.849936306476593), ('weeks', 0.8376432657241821)]\n",
      "[-0.248204   -0.2452565  -0.08156046]\n",
      "[[-0.23371187 -0.30359426 -0.01094574]\n",
      " [-0.17208306 -0.23322713 -0.1610568 ]\n",
      " [-0.2975674  -0.2330507   0.03119168]\n",
      " [-0.095222   -0.20392987 -0.01255612]\n",
      " [-0.2942829  -0.14061719  0.00221788]\n",
      " [-0.24695018 -0.07242171 -0.06219727]\n",
      " [-0.23660916 -0.25768462 -0.30295923]\n",
      " [-0.08901064 -0.28964493 -0.02691508]\n",
      " [-0.19178434 -0.15672255 -0.24436885]\n",
      " [-0.19845465 -0.05969124 -0.14281404]]\n"
     ]
    }
   ],
   "source": [
    "print(modelsurv.wv.similar_by_word('pain')  )\n",
    "print(modelsurv.wv['pain'])\n",
    "print(modelsurv.wv['men', 'indicate','monitoring', 'hours', 'to','blood', 'curves', 'mmhg', 'as', 'weeks'])"
   ]
  },
  {
   "cell_type": "markdown",
   "id": "4564b2db",
   "metadata": {},
   "source": [
    "### In the example presented below we pocketed the same steps as the first text."
   ]
  },
  {
   "cell_type": "code",
   "execution_count": 64,
   "id": "6466d2e8",
   "metadata": {},
   "outputs": [
    {
     "name": "stdout",
     "output_type": "stream",
     "text": [
      "['fifty', 'patients', 'successfully', 'completed', 'the', 'study', 'protocol', '.', 'patients', 'receiving', 'combinations', 'of', 'morphine', ',', 'bupivacaine', ',', 'and', 'epinephrine', 'or', 'bupivacaine', 'and', 'epinephrine', 'yielded', 'lower', 'pain', 'scores', 'and', 'narcotics', 'consumption', 'than', 'patients', 'receiving', 'epinephrine', 'alone', ',', 'which', 'was', 'statistically', 'significant', 'irrespective', 'of', 'the', 'timing', 'of', 'injection', '(', 'p', '<', '.0001', ')', '.', 'patients', 'receiving', 'the', 'study', 'medication', 'preoperatively', 'had', 'significantly', 'lower', 'pain', 'scores', 'at', 'the', 'first', 'measurement', '(', 't', '=', '0', ')', 'than', 'those', 'receiving', 'the', 'study', 'medication', 'postoperatively', '(', 'p', '=', '.0343', ')', '.', 'there', 'was', 'no', 'statistically', 'significant', 'effect', 'of', 'timing', 'of', 'the', 'treatment', 'medication', 'administration', 'at', 'either', '60', 'or', '120', 'minutes', 'postoperatively', '.', 'comparison', 'of', 'fentanyl', 'consumption', 'between', 'groups', 'receiving', 'the', 'treatment', 'medication', 'preoperatively', 'versus', 'postoperatively', 'showed', 'no', 'significant', 'difference', '.the', 'combination', 'of', 'morphine', ',', 'bupivacaine', ',', 'and', 'epinephrine', ',', 'as', 'well', 'as', 'the', 'combination', 'of', 'bupivacaine', 'and', 'epinephrine', 'provide', 'excellent', 'postoperative', 'pain', 'control', 'when', 'used', 'either', 'preoperatively', 'or', 'postoperatively', 'in', 'knee', 'arthroscop', '.', 'there', 'was', 'a', 'trend', 'that', 'patients', 'receiving', 'preoperative', 'analgesic', 'injections', 'experienced', 'superior', 'pain', 'control', 'than', 'did', 'those', 'injected', 'postoperatively', '.']\n"
     ]
    }
   ],
   "source": [
    "##PubMed_200k\n",
    "import numpy as np # linear algebra\n",
    "import os # accessing directory structure\n",
    "import pandas as pd\n",
    "from nltk.tokenize import word_tokenize\n",
    "sentences=[\"Fifty patients successfully completed the study protocol . Patients receiving combinations of morphine  , bupivacaine , and epinephrine or bupivacaine and epinephrine yielded lower pain scores and narcotics consumption than patients receiving epinephrine alone , which was statistically significant irrespective of the timing of injection ( P < .0001 ) . \tPatients receiving the study medication preoperatively had significantly lower pain scores at the first measurement ( t = 0 ) than those receiving the study medication postoperatively ( P = .0343 ) . There was no statistically significant effect of timing of the treatment medication administration at either 60 or 120 minutes postoperatively . Comparison of fentanyl consumption between groups receiving the treatment medication preoperatively versus postoperatively showed no significant difference .The combination of morphine , bupivacaine , and epinephrine , as well as the combination of bupivacaine and epinephrine provide excellent postoperative pain control when used either preoperatively or postoperatively in knee arthroscop . There was a trend that patients receiving preoperative analgesic injections experienced superior pain control than did those injected postoperatively . \"]\n",
    "st=[]\n",
    "for sent in sentences:\n",
    "    tokens = word_tokenize(sent)\n",
    "    tokens = [w.lower() for w in tokens]\n",
    "    st.append(tokens)\n",
    "print(st[0])\n"
   ]
  },
  {
   "cell_type": "code",
   "execution_count": 65,
   "id": "1cf10b66",
   "metadata": {},
   "outputs": [
    {
     "name": "stdout",
     "output_type": "stream",
     "text": [
      "Word2Vec<vocab=89, vector_size=1, alpha=0.025>\n",
      "[-0.37439027]\n"
     ]
    }
   ],
   "source": [
    "from gensim.models import Word2Vec\n",
    "modelsurv = Word2Vec(st,min_count=1,vector_size=1)\n",
    "# summarize the loaded model\n",
    "print(modelsurv)\n",
    "print(modelsurv.wv['pain'])"
   ]
  },
  {
   "cell_type": "code",
   "execution_count": 66,
   "id": "dd9cd493",
   "metadata": {},
   "outputs": [
    {
     "name": "stdout",
     "output_type": "stream",
     "text": [
      "[('combinations', 1.0), ('which', 1.0), ('postoperative', 1.0), ('arthroscop', 1.0), ('t', 1.0), ('protocol', 1.0), ('in', 1.0), ('alone', 1.0), ('at', 1.0), ('injected', 1.0)]\n",
      "[[-0.02600246]\n",
      " [-0.8715803 ]\n",
      " [-0.44625682]\n",
      " [-0.41450462]\n",
      " [-0.815236  ]\n",
      " [-0.76460844]\n",
      " [-0.35509628]\n",
      " [-0.43826872]\n",
      " [-0.19329406]\n",
      " [-0.47433007]]\n"
     ]
    }
   ],
   "source": [
    "print(modelsurv.wv.similar_by_word('pain')  )\n",
    "print(modelsurv.wv['combinations', 'which','postoperative', 'arthroscop', 't', 'protocol', 'in','alone','at', 'injected'])\n"
   ]
  },
  {
   "cell_type": "code",
   "execution_count": 67,
   "id": "7cb88fc9",
   "metadata": {},
   "outputs": [
    {
     "name": "stdout",
     "output_type": "stream",
     "text": [
      "Word2Vec<vocab=89, vector_size=2, alpha=0.025>\n"
     ]
    }
   ],
   "source": [
    "from gensim.models import Word2Vec\n",
    "modelsurv = Word2Vec(st,min_count=1,vector_size=2)\n",
    "# summarize the loaded model\n",
    "print(modelsurv)\n"
   ]
  },
  {
   "cell_type": "code",
   "execution_count": 68,
   "id": "3b624dc0",
   "metadata": {},
   "outputs": [
    {
     "name": "stdout",
     "output_type": "stream",
     "text": [
      "[('120', 0.9997993111610413), (')', 0.9872881770133972), ('successfully', 0.9832099676132202), (',', 0.9797188639640808), ('receiving', 0.9784354567527771), ('combination', 0.9741243720054626), ('excellent', 0.9587475657463074), ('between', 0.94896000623703), ('or', 0.9317843317985535), ('treatment', 0.9252920150756836)]\n",
      "[[-0.22952682 -0.25210172]\n",
      " [-0.11299069 -0.09376078]\n",
      " [-0.44509122 -0.351733  ]\n",
      " [-0.46091023 -0.35077196]\n",
      " [-0.24343628 -0.18285151]\n",
      " [-0.20421192 -0.3823596 ]\n",
      " [-0.14129485 -0.30785048]\n",
      " [-0.18319613 -0.43615544]\n",
      " [-0.3731453  -0.19463071]\n",
      " [-0.43532884 -0.21746512]]\n",
      "[-0.40871736 -0.46739444]\n"
     ]
    }
   ],
   "source": [
    "\n",
    "print(modelsurv.wv.similar_by_word('pain')  )\n",
    "print(modelsurv.wv['120', ')', 'successfully', ',', 'receiving','combination', 'excellent', 'between', 'or', 'treatment' ])\n",
    "print(modelsurv.wv['pain'])\n",
    "    "
   ]
  },
  {
   "cell_type": "code",
   "execution_count": 69,
   "id": "47e7eed1",
   "metadata": {},
   "outputs": [
    {
     "name": "stdout",
     "output_type": "stream",
     "text": [
      "Word2Vec<vocab=89, vector_size=3, alpha=0.025>\n",
      "[ 0.18839891 -0.2540631  -0.12656955]\n"
     ]
    }
   ],
   "source": [
    "from gensim.models import Word2Vec\n",
    "modelsurv = Word2Vec(st,min_count=1,vector_size=3)\n",
    "# summarize the loaded model\n",
    "print(modelsurv)\n",
    "print(modelsurv.wv['pain'])"
   ]
  },
  {
   "cell_type": "code",
   "execution_count": 71,
   "id": "16c07724",
   "metadata": {},
   "outputs": [
    {
     "name": "stdout",
     "output_type": "stream",
     "text": [
      "[('the', 0.9884967803955078), ('experienced', 0.9563021063804626), ('preoperative', 0.9361757636070251), ('t', 0.931717574596405), ('than', 0.8845242857933044), ('and', 0.8808499574661255), ('injected', 0.8521605134010315), (')', 0.848167359828949), ('minutes', 0.8335068821907043), ('provide', 0.7844080328941345)]\n",
      "[[ 0.2950617  -0.31452298 -0.23044617]\n",
      " [ 0.10089256 -0.22837418 -0.04392448]\n",
      " [ 0.07130048 -0.26479003 -0.08826005]\n",
      " [ 0.2594061  -0.31887758 -0.00474538]\n",
      " [ 0.26621985 -0.20084439  0.00535775]\n",
      " [ 0.20968314 -0.11466264 -0.02830276]\n",
      " [ 0.2506244  -0.12669171 -0.01810657]\n",
      " [ 0.14730744 -0.13950509  0.0308135 ]\n",
      " [ 0.04674968 -0.0908818  -0.14382423]\n",
      " [ 0.25347137 -0.2860597   0.11112635]]\n"
     ]
    }
   ],
   "source": [
    "print(modelsurv.wv.similar_by_word('pain')  )\n",
    "print(modelsurv.wv['the', 'experienced', 'preoperative', 't', 'than','and', 'injected', ')','minutes', 'provide'])"
   ]
  }
 ],
 "metadata": {
  "kernelspec": {
   "display_name": "Python 3 (ipykernel)",
   "language": "python",
   "name": "python3"
  },
  "language_info": {
   "codemirror_mode": {
    "name": "ipython",
    "version": 3
   },
   "file_extension": ".py",
   "mimetype": "text/x-python",
   "name": "python",
   "nbconvert_exporter": "python",
   "pygments_lexer": "ipython3",
   "version": "3.7.10"
  }
 },
 "nbformat": 4,
 "nbformat_minor": 5
}
